{
 "cells": [
  {
   "cell_type": "code",
   "execution_count": 1,
   "id": "9905444b",
   "metadata": {},
   "outputs": [],
   "source": [
    "import pandas as pd"
   ]
  },
  {
   "cell_type": "code",
   "execution_count": 8,
   "id": "f8e3aa91",
   "metadata": {},
   "outputs": [],
   "source": [
    "dataset_body = \"../datasets/raw/soc-redditHyperlinks-body.tsv\"\n",
    "dataset_title = \"../datasets/raw/soc-redditHyperlinks-title.tsv\""
   ]
  },
  {
   "cell_type": "code",
   "execution_count": 9,
   "id": "fa46ea60",
   "metadata": {},
   "outputs": [
    {
     "name": "stdout",
     "output_type": "stream",
     "text": [
      "    SOURCE_SUBREDDIT TARGET_SUBREDDIT  POST_ID            TIMESTAMP  \\\n",
      "0         rddtgaming         rddtrust  1u4pzzs  2013-12-31 16:39:18   \n",
      "1            xboxone    battlefield_4  1u4tmfs  2013-12-31 17:59:11   \n",
      "2                ps4    battlefield_4  1u4tmos  2013-12-31 17:59:40   \n",
      "3  fitnesscirclejerk        leangains  1u50xfs  2013-12-31 19:01:56   \n",
      "4  fitnesscirclejerk      lifeprotips  1u51nps  2013-12-31 21:02:28   \n",
      "\n",
      "   LINK_SENTIMENT                                         PROPERTIES  \n",
      "0               1  25.0,23.0,0.76,0.0,0.44,0.12,0.12,4.0,4.0,0.0,...  \n",
      "1               1  100.0,88.0,0.78,0.02,0.08,0.13,0.07,16.0,16.0,...  \n",
      "2               1  100.0,88.0,0.78,0.02,0.08,0.13,0.07,16.0,16.0,...  \n",
      "3               1  49.0,43.0,0.775510204082,0.0,0.265306122449,0....  \n",
      "4               1  14.0,14.0,0.785714285714,0.0,0.428571428571,0....  \n"
     ]
    }
   ],
   "source": [
    "df = pd.read_csv(dataset_title, sep='\\t')\n",
    "print(df.head())"
   ]
  }
 ],
 "metadata": {
  "kernelspec": {
   "display_name": "env",
   "language": "python",
   "name": "python3"
  },
  "language_info": {
   "codemirror_mode": {
    "name": "ipython",
    "version": 3
   },
   "file_extension": ".py",
   "mimetype": "text/x-python",
   "name": "python",
   "nbconvert_exporter": "python",
   "pygments_lexer": "ipython3",
   "version": "3.9.6"
  }
 },
 "nbformat": 4,
 "nbformat_minor": 5
}
